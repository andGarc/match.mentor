{
 "cells": [
  {
   "cell_type": "code",
   "execution_count": 2,
   "metadata": {},
   "outputs": [],
   "source": [
    "import pandas as pd"
   ]
  },
  {
   "cell_type": "code",
   "execution_count": 56,
   "metadata": {},
   "outputs": [],
   "source": [
    "# mentors\n",
    "mentors_df = pd.read_csv('../data/raw/List of Mentors.csv')"
   ]
  },
  {
   "cell_type": "code",
   "execution_count": 57,
   "metadata": {},
   "outputs": [],
   "source": [
    "# mentees\n",
    "mentees_df = pd.read_csv('../data/raw/List of Mentees.csv')"
   ]
  },
  {
   "cell_type": "code",
   "execution_count": 58,
   "metadata": {},
   "outputs": [],
   "source": [
    "# Created dictionaries for every row\n",
    "def create_sentences(df):\n",
    "\n",
    "    # Initialize an empty list to store dictionaries\n",
    "    dict_list = []\n",
    "\n",
    "    # Iterate over each row of the DataFrame\n",
    "    for index, row in df.iterrows():\n",
    "        # Convert the row to a dictionary and append to the list\n",
    "        row_dict = dict(row)\n",
    "        dict_list.append(row_dict)\n",
    "    \n",
    "    return dict_list"
   ]
  },
  {
   "cell_type": "code",
   "execution_count": 59,
   "metadata": {},
   "outputs": [],
   "source": [
    "# generate sentence for mentors\n",
    "mentor_dataset = create_sentences(mentors_df)"
   ]
  },
  {
   "cell_type": "code",
   "execution_count": 60,
   "metadata": {},
   "outputs": [],
   "source": [
    "# generate sentences for mentees\n",
    "mentee_dataset = create_sentences(mentees_df)"
   ]
  },
  {
   "cell_type": "markdown",
   "metadata": {},
   "source": [
    "## Model"
   ]
  },
  {
   "cell_type": "code",
   "execution_count": 61,
   "metadata": {},
   "outputs": [],
   "source": [
    "from transformers import BertTokenizer, BertModel\n",
    "from sklearn.metrics.pairwise import cosine_similarity"
   ]
  },
  {
   "cell_type": "code",
   "execution_count": 62,
   "metadata": {},
   "outputs": [],
   "source": [
    "# Load pre-trained BERT model and tokenizer\n",
    "tokenizer = BertTokenizer.from_pretrained('bert-base-uncased')\n",
    "model = BertModel.from_pretrained('bert-base-uncased')"
   ]
  },
  {
   "cell_type": "code",
   "execution_count": 63,
   "metadata": {},
   "outputs": [],
   "source": [
    "# Encode input text and get BERT embeddings\n",
    "def get_bert_embedding(text):\n",
    "    inputs = tokenizer(text, return_tensors='pt', max_length=512, truncation=True)\n",
    "    outputs = model(**inputs)\n",
    "    embeddings = outputs.last_hidden_state.mean(dim=1)  # Mean pooling over tokens\n",
    "    return embeddings"
   ]
  },
  {
   "cell_type": "code",
   "execution_count": 64,
   "metadata": {},
   "outputs": [],
   "source": [
    "# Calculate cosine similarity between two vectors\n",
    "def cosine_similarity_vec(vec1, vec2):\n",
    "    return cosine_similarity(vec1.detach().numpy(), vec2.detach().numpy())"
   ]
  },
  {
   "cell_type": "code",
   "execution_count": 71,
   "metadata": {},
   "outputs": [],
   "source": [
    "# Define weights for criteria\n",
    "weights = {\n",
    "    'Location': 0.6,\n",
    "    \n",
    "}"
   ]
  },
  {
   "cell_type": "code",
   "execution_count": 72,
   "metadata": {},
   "outputs": [
    {
     "data": {
      "text/plain": [
       "{'Name': 'Maria Perez',\n",
       " 'Summary': 'Structural engineer with over a decade of experience, specializing in space systems. My expertise revolves around ensuring the safety and integrity of these intricate structures, making me a crucial contributor to the world of space exploration.',\n",
       " 'Location': 'Portland, OR'}"
      ]
     },
     "execution_count": 72,
     "metadata": {},
     "output_type": "execute_result"
    }
   ],
   "source": [
    "# get 1 mentor to test with\n",
    "mentor = mentor_dataset[0]\n",
    "mentor"
   ]
  },
  {
   "cell_type": "code",
   "execution_count": 73,
   "metadata": {},
   "outputs": [],
   "source": [
    "input_embedding = get_bert_embedding(mentor['Summary'])"
   ]
  },
  {
   "cell_type": "code",
   "execution_count": 74,
   "metadata": {},
   "outputs": [],
   "source": [
    "adjusted_similarities = {}\n",
    "for item in mentee_dataset:\n",
    "    text = item['Summary']  # Extract text from the dictionary\n",
    "    other_embedding = get_bert_embedding(text)\n",
    "    similarity_score = cosine_similarity_vec(input_embedding, other_embedding)\n",
    "\n",
    "    # Apply adjustments based on criteria\n",
    "    adjusted_score = similarity_score\n",
    "    for criterion, weight in weights.items():\n",
    "        if criterion in mentor and mentor[criterion] == item.get(criterion):\n",
    "            adjusted_score += weight * .1  # Adjust by a factor based on criterion importance\n",
    "\n",
    "    adjusted_similarities[text] = adjusted_score  # Store similarity scores by text\n"
   ]
  },
  {
   "cell_type": "code",
   "execution_count": 75,
   "metadata": {},
   "outputs": [
    {
     "name": "stdout",
     "output_type": "stream",
     "text": [
      "Top recommendations: [(\"I'm Juniper Berry, an entry-level mechanical engineer hailing from West Virginia. My passion lies in space systems, and I'm eager to embark on a career dedicated to exploring the cosmos. With a strong educational background and a deep fascination for all things related to space, I'm determined to contribute to the exciting field of aerospace engineering and push the boundaries of human exploration.\", array([[0.93900716]], dtype=float32)), (\"I'm Francisco Clearwater, originally from Denver, Colorado. My academic background is in civil engineering, but my interests extend beyond the realm of engineering. I'm deeply intrigued by business management and its intricate dynamics. My journey is a fusion of analytical thinking and strategic vision, as I aim to bridge the gap between engineering expertise and effective business leadership.\", array([[0.86439013]], dtype=float32)), (\"I'm Marta Diaz, currently pursuing a cybersecurity program at Harvard University. My academic journey is fueled by a fascination with the cutting-edge technologies that shape our digital world. With a focus on cybersecurity, I'm passionate about securing the future of technology and ensuring its resilience in the face of emerging threats. My dedication to next-gen tech and cybersecurity is the driving force behind my academic pursuits.\", array([[0.8572381]], dtype=float32))]\n"
     ]
    }
   ],
   "source": [
    "# Get top N recommendations based on adjusted similarity scores\n",
    "top_recommendations = sorted(adjusted_similarities.items(), key=lambda x: x[1], reverse=True)[:3]\n",
    "print(\"Top recommendations:\", top_recommendations)"
   ]
  }
 ],
 "metadata": {
  "kernelspec": {
   "display_name": "env",
   "language": "python",
   "name": "python3"
  },
  "language_info": {
   "codemirror_mode": {
    "name": "ipython",
    "version": 3
   },
   "file_extension": ".py",
   "mimetype": "text/x-python",
   "name": "python",
   "nbconvert_exporter": "python",
   "pygments_lexer": "ipython3",
   "version": "3.11.3"
  }
 },
 "nbformat": 4,
 "nbformat_minor": 2
}
