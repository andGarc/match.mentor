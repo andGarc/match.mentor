{
 "cells": [
  {
   "cell_type": "code",
   "execution_count": 1,
   "metadata": {},
   "outputs": [],
   "source": [
    "import pandas as pd"
   ]
  },
  {
   "cell_type": "markdown",
   "metadata": {},
   "source": [
    "Turn mentees dataset into a list of sentences."
   ]
  },
  {
   "cell_type": "code",
   "execution_count": 2,
   "metadata": {},
   "outputs": [
    {
     "data": {
      "text/html": [
       "<div>\n",
       "<style scoped>\n",
       "    .dataframe tbody tr th:only-of-type {\n",
       "        vertical-align: middle;\n",
       "    }\n",
       "\n",
       "    .dataframe tbody tr th {\n",
       "        vertical-align: top;\n",
       "    }\n",
       "\n",
       "    .dataframe thead th {\n",
       "        text-align: right;\n",
       "    }\n",
       "</style>\n",
       "<table border=\"1\" class=\"dataframe\">\n",
       "  <thead>\n",
       "    <tr style=\"text-align: right;\">\n",
       "      <th></th>\n",
       "      <th>Name</th>\n",
       "      <th>Summary</th>\n",
       "      <th>Location</th>\n",
       "    </tr>\n",
       "  </thead>\n",
       "  <tbody>\n",
       "    <tr>\n",
       "      <th>0</th>\n",
       "      <td>Juniper Berry</td>\n",
       "      <td>I'm Juniper Berry, an entry-level mechanical e...</td>\n",
       "      <td>Space Park, CA</td>\n",
       "    </tr>\n",
       "    <tr>\n",
       "      <th>1</th>\n",
       "      <td>Francisco Clearwater</td>\n",
       "      <td>I'm Francisco Clearwater, originally from Denv...</td>\n",
       "      <td>Denver, Colorado</td>\n",
       "    </tr>\n",
       "    <tr>\n",
       "      <th>2</th>\n",
       "      <td>Marta Lopez</td>\n",
       "      <td>I'm Marta Diaz, currently pursuing a cybersecu...</td>\n",
       "      <td>Dulles, VA</td>\n",
       "    </tr>\n",
       "  </tbody>\n",
       "</table>\n",
       "</div>"
      ],
      "text/plain": [
       "                   Name                                            Summary  \\\n",
       "0         Juniper Berry  I'm Juniper Berry, an entry-level mechanical e...   \n",
       "1  Francisco Clearwater  I'm Francisco Clearwater, originally from Denv...   \n",
       "2           Marta Lopez  I'm Marta Diaz, currently pursuing a cybersecu...   \n",
       "\n",
       "           Location  \n",
       "0    Space Park, CA  \n",
       "1  Denver, Colorado  \n",
       "2        Dulles, VA  "
      ]
     },
     "execution_count": 2,
     "metadata": {},
     "output_type": "execute_result"
    }
   ],
   "source": [
    "mentees_df = pd.read_csv('../data/raw/List of Mentees.csv')\n",
    "mentees_df"
   ]
  },
  {
   "cell_type": "code",
   "execution_count": 4,
   "metadata": {},
   "outputs": [
    {
     "data": {
      "text/html": [
       "<div>\n",
       "<style scoped>\n",
       "    .dataframe tbody tr th:only-of-type {\n",
       "        vertical-align: middle;\n",
       "    }\n",
       "\n",
       "    .dataframe tbody tr th {\n",
       "        vertical-align: top;\n",
       "    }\n",
       "\n",
       "    .dataframe thead th {\n",
       "        text-align: right;\n",
       "    }\n",
       "</style>\n",
       "<table border=\"1\" class=\"dataframe\">\n",
       "  <thead>\n",
       "    <tr style=\"text-align: right;\">\n",
       "      <th></th>\n",
       "      <th>Name</th>\n",
       "      <th>Summary</th>\n",
       "      <th>Location</th>\n",
       "      <th>joined_columns</th>\n",
       "    </tr>\n",
       "  </thead>\n",
       "  <tbody>\n",
       "    <tr>\n",
       "      <th>0</th>\n",
       "      <td>Juniper Berry</td>\n",
       "      <td>I'm Juniper Berry, an entry-level mechanical e...</td>\n",
       "      <td>Space Park, CA</td>\n",
       "      <td>Juniper Berry - I'm Juniper Berry, an entry-le...</td>\n",
       "    </tr>\n",
       "    <tr>\n",
       "      <th>1</th>\n",
       "      <td>Francisco Clearwater</td>\n",
       "      <td>I'm Francisco Clearwater, originally from Denv...</td>\n",
       "      <td>Denver, Colorado</td>\n",
       "      <td>Francisco Clearwater - I'm Francisco Clearwate...</td>\n",
       "    </tr>\n",
       "    <tr>\n",
       "      <th>2</th>\n",
       "      <td>Marta Lopez</td>\n",
       "      <td>I'm Marta Diaz, currently pursuing a cybersecu...</td>\n",
       "      <td>Dulles, VA</td>\n",
       "      <td>Marta Lopez - I'm Marta Diaz, currently pursui...</td>\n",
       "    </tr>\n",
       "  </tbody>\n",
       "</table>\n",
       "</div>"
      ],
      "text/plain": [
       "                   Name                                            Summary  \\\n",
       "0         Juniper Berry  I'm Juniper Berry, an entry-level mechanical e...   \n",
       "1  Francisco Clearwater  I'm Francisco Clearwater, originally from Denv...   \n",
       "2           Marta Lopez  I'm Marta Diaz, currently pursuing a cybersecu...   \n",
       "\n",
       "           Location                                     joined_columns  \n",
       "0    Space Park, CA  Juniper Berry - I'm Juniper Berry, an entry-le...  \n",
       "1  Denver, Colorado  Francisco Clearwater - I'm Francisco Clearwate...  \n",
       "2        Dulles, VA  Marta Lopez - I'm Marta Diaz, currently pursui...  "
      ]
     },
     "execution_count": 4,
     "metadata": {},
     "output_type": "execute_result"
    }
   ],
   "source": [
    "# First let's join all 3 columns per row into one\n",
    "# Join the columns with a '-'\n",
    "mentees_df['joined_columns'] = mentees_df.apply(lambda x: ' - '.join(map(str, x[['Name', 'Summary', 'Location']])), axis=1)\n",
    "mentees_df\n"
   ]
  },
  {
   "cell_type": "code",
   "execution_count": 5,
   "metadata": {},
   "outputs": [
    {
     "data": {
      "text/plain": [
       "[\"Juniper Berry - I'm Juniper Berry, an entry-level mechanical engineer hailing from West Virginia. My passion lies in space systems, and I'm eager to embark on a career dedicated to exploring the cosmos. With a strong educational background and a deep fascination for all things related to space, I'm determined to contribute to the exciting field of aerospace engineering and push the boundaries of human exploration. - Space Park, CA\",\n",
       " \"Francisco Clearwater - I'm Francisco Clearwater, originally from Denver, Colorado. My academic background is in civil engineering, but my interests extend beyond the realm of engineering. I'm deeply intrigued by business management and its intricate dynamics. My journey is a fusion of analytical thinking and strategic vision, as I aim to bridge the gap between engineering expertise and effective business leadership. - Denver, Colorado\",\n",
       " \"Marta Lopez - I'm Marta Diaz, currently pursuing a cybersecurity program at Harvard University. My academic journey is fueled by a fascination with the cutting-edge technologies that shape our digital world. With a focus on cybersecurity, I'm passionate about securing the future of technology and ensuring its resilience in the face of emerging threats. My dedication to next-gen tech and cybersecurity is the driving force behind my academic pursuits. - Dulles, VA\"]"
      ]
     },
     "execution_count": 5,
     "metadata": {},
     "output_type": "execute_result"
    }
   ],
   "source": [
    "# Convert joined_columns to a list\n",
    "mentees_sentences = mentees_df['joined_columns'].to_list()\n",
    "mentees_sentences\n"
   ]
  },
  {
   "cell_type": "markdown",
   "metadata": {},
   "source": [
    "Turn the mentor dataset into a list of sentences."
   ]
  },
  {
   "cell_type": "code",
   "execution_count": 6,
   "metadata": {},
   "outputs": [
    {
     "data": {
      "text/html": [
       "<div>\n",
       "<style scoped>\n",
       "    .dataframe tbody tr th:only-of-type {\n",
       "        vertical-align: middle;\n",
       "    }\n",
       "\n",
       "    .dataframe tbody tr th {\n",
       "        vertical-align: top;\n",
       "    }\n",
       "\n",
       "    .dataframe thead th {\n",
       "        text-align: right;\n",
       "    }\n",
       "</style>\n",
       "<table border=\"1\" class=\"dataframe\">\n",
       "  <thead>\n",
       "    <tr style=\"text-align: right;\">\n",
       "      <th></th>\n",
       "      <th>Name</th>\n",
       "      <th>Summary</th>\n",
       "      <th>Location</th>\n",
       "    </tr>\n",
       "  </thead>\n",
       "  <tbody>\n",
       "    <tr>\n",
       "      <th>0</th>\n",
       "      <td>Maria Perez</td>\n",
       "      <td>Structural engineer with over a decade of expe...</td>\n",
       "      <td>Portland, OR</td>\n",
       "    </tr>\n",
       "    <tr>\n",
       "      <th>1</th>\n",
       "      <td>Mark Vargas</td>\n",
       "      <td>I'm Mark, a mechanical engineer with 5 years o...</td>\n",
       "      <td>Linthicum, MD</td>\n",
       "    </tr>\n",
       "    <tr>\n",
       "      <th>2</th>\n",
       "      <td>Joe Pulisic</td>\n",
       "      <td>I'm Joe, a business manager with a passion for...</td>\n",
       "      <td>Space Park, CA</td>\n",
       "    </tr>\n",
       "    <tr>\n",
       "      <th>3</th>\n",
       "      <td>Raga Martinez</td>\n",
       "      <td>I'm Raga, a chemical engineer based in Virgini...</td>\n",
       "      <td>Dulles, VA</td>\n",
       "    </tr>\n",
       "    <tr>\n",
       "      <th>4</th>\n",
       "      <td>Martin Junior Lopez</td>\n",
       "      <td>I'm Martin, a structural engineer specializing...</td>\n",
       "      <td>San Diego, CA</td>\n",
       "    </tr>\n",
       "    <tr>\n",
       "      <th>5</th>\n",
       "      <td>Nico Garcia</td>\n",
       "      <td>I'm Nico, a dedicated software engineer with a...</td>\n",
       "      <td>Dulles, VA</td>\n",
       "    </tr>\n",
       "    <tr>\n",
       "      <th>6</th>\n",
       "      <td>Bobby II Miller</td>\n",
       "      <td>I'm Bobby, a forward-thinking Director of Engi...</td>\n",
       "      <td>Linthicum, MD</td>\n",
       "    </tr>\n",
       "    <tr>\n",
       "      <th>7</th>\n",
       "      <td>Sam Mullen</td>\n",
       "      <td>I'm Sam, a Manager at Level 3, bringing a weal...</td>\n",
       "      <td>San Diego, CA</td>\n",
       "    </tr>\n",
       "    <tr>\n",
       "      <th>8</th>\n",
       "      <td>Kai Havertz</td>\n",
       "      <td>I'm Kai Havertz, a professional football playe...</td>\n",
       "      <td>London, England</td>\n",
       "    </tr>\n",
       "  </tbody>\n",
       "</table>\n",
       "</div>"
      ],
      "text/plain": [
       "                  Name                                            Summary  \\\n",
       "0          Maria Perez  Structural engineer with over a decade of expe...   \n",
       "1          Mark Vargas  I'm Mark, a mechanical engineer with 5 years o...   \n",
       "2          Joe Pulisic  I'm Joe, a business manager with a passion for...   \n",
       "3        Raga Martinez  I'm Raga, a chemical engineer based in Virgini...   \n",
       "4  Martin Junior Lopez  I'm Martin, a structural engineer specializing...   \n",
       "5          Nico Garcia  I'm Nico, a dedicated software engineer with a...   \n",
       "6      Bobby II Miller  I'm Bobby, a forward-thinking Director of Engi...   \n",
       "7           Sam Mullen  I'm Sam, a Manager at Level 3, bringing a weal...   \n",
       "8          Kai Havertz  I'm Kai Havertz, a professional football playe...   \n",
       "\n",
       "          Location  \n",
       "0     Portland, OR  \n",
       "1    Linthicum, MD  \n",
       "2   Space Park, CA  \n",
       "3       Dulles, VA  \n",
       "4    San Diego, CA  \n",
       "5       Dulles, VA  \n",
       "6    Linthicum, MD  \n",
       "7    San Diego, CA  \n",
       "8  London, England  "
      ]
     },
     "execution_count": 6,
     "metadata": {},
     "output_type": "execute_result"
    }
   ],
   "source": [
    "mentors_df = pd.read_csv('../data/raw/List of Mentors.csv')\n",
    "mentors_df"
   ]
  },
  {
   "cell_type": "code",
   "execution_count": 7,
   "metadata": {},
   "outputs": [
    {
     "data": {
      "text/plain": [
       "['Maria Perez - Structural engineer with over a decade of experience, specializing in space systems. My expertise revolves around ensuring the safety and integrity of these intricate structures, making me a crucial contributor to the world of space exploration. - Portland, OR',\n",
       " \"Mark Vargas - I'm Mark, a mechanical engineer with 5 years of experience in the manufacturing industry. I'm proud to have graduated from the University of Alabama, where I honed my engineering skills. My expertise lies in optimizing manufacturing processes and ensuring efficiency in production. - Linthicum, MD\",\n",
       " \"Joe Pulisic - I'm Joe, a business manager with a passion for cost reduction strategies. I hold an MBA from Harvard University, where I gained a solid foundation in business management. My primary focus is on finding innovative ways to reduce costs and improve efficiency within organizations. Outside of the business world, I'm an avid rock climber, always seeking new challenges on the mountainside. - Space Park, CA\",\n",
       " \"Raga Martinez - I'm Raga, a chemical engineer based in Virginia. Alongside my three feline companions, I'm dedicated to my work in propulsion systems. I pursued my education at the University of Texas in Austin, where I gained the knowledge and skills that now drive my career in engineering. In my free time, you can find me enjoying the company of my cats and exploring the beauty of Virginia. - Dulles, VA\",\n",
       " \"Martin Junior Lopez - I'm Martin, a structural engineer specializing in next-generation space systems. I'm a proud alum of the University of Maryland, where I laid the foundation for my engineering journey. Beyond my professional work, I'm passionate about mentoring and guiding the next generation of professionals in the field. My goal is to inspire and nurture the talents that will shape the future of structural engineering and space exploration. - San Diego, CA\",\n",
       " \"Nico Garcia - I'm Nico, a dedicated software engineer with a sharp focus on cybersecurity. My expertise in safeguarding digital landscapes is grounded in my passion for protecting data and systems from potential threats. While my educational background may not be as flashy as some, my practical experience has shaped me into a cybersecurity enthusiast. I'm committed to keeping digital spaces secure and resilient against emerging challenges in our ever-evolving technological landscape. - Dulles, VA\",\n",
       " \"Bobby II Miller - I'm Bobby, a forward-thinking Director of Engineering with a strong emphasis on emerging technologies and artificial intelligence (AI). My journey started with a PhD from West Virginia University, and since then, I've been dedicated to pushing the boundaries of technological innovation. My passion lies in harnessing the power of AI and cutting-edge tech to drive progress and create innovative solutions. As a leader in my field, I'm committed to shaping the future of engineering through these exciting advancements. - Linthicum, MD\",\n",
       " \"Sam Mullen - I'm Sam, a Manager at Level 3, bringing a wealth of expertise to the table. I hold a valuable business degree from Colorado University, which has equipped me with the knowledge and skills to excel in my role. With a keen eye for strategy and leadership, I'm dedicated to achieving organizational goals and fostering growth. My experience and commitment to success make me a valuable asset to my team and company. - San Diego, CA\",\n",
       " \"Kai Havertz - I'm Kai Havertz, a professional football player known for my skills on the field. Throughout my career, I've had the privilege of playing for top clubs and representing my national team. I'm dedicated to honing my abilities and contributing to the world of football. Excited about what the future holds, I'm committed to making a significant impact in the sport. - London, England\"]"
      ]
     },
     "execution_count": 7,
     "metadata": {},
     "output_type": "execute_result"
    }
   ],
   "source": [
    "mentors_df['joined_columns'] = mentors_df.apply(lambda x: ' - '.join(map(str, x[['Name', 'Summary', 'Location']])), axis=1)\n",
    "mentor_sentences = mentors_df['joined_columns'].to_list()\n",
    "mentor_sentences"
   ]
  },
  {
   "cell_type": "code",
   "execution_count": 8,
   "metadata": {},
   "outputs": [
    {
     "data": {
      "text/plain": [
       "3"
      ]
     },
     "execution_count": 8,
     "metadata": {},
     "output_type": "execute_result"
    }
   ],
   "source": [
    "len(mentees_sentences)"
   ]
  },
  {
   "cell_type": "code",
   "execution_count": 9,
   "metadata": {},
   "outputs": [],
   "source": [
    "data = []\n",
    "for s in mentor_sentences:\n",
    "    data.append([s] + mentees_sentences)\n",
    "    "
   ]
  },
  {
   "cell_type": "code",
   "execution_count": 10,
   "metadata": {},
   "outputs": [
    {
     "data": {
      "text/plain": [
       "[['Maria Perez - Structural engineer with over a decade of experience, specializing in space systems. My expertise revolves around ensuring the safety and integrity of these intricate structures, making me a crucial contributor to the world of space exploration. - Portland, OR',\n",
       "  \"Juniper Berry - I'm Juniper Berry, an entry-level mechanical engineer hailing from West Virginia. My passion lies in space systems, and I'm eager to embark on a career dedicated to exploring the cosmos. With a strong educational background and a deep fascination for all things related to space, I'm determined to contribute to the exciting field of aerospace engineering and push the boundaries of human exploration. - Space Park, CA\",\n",
       "  \"Francisco Clearwater - I'm Francisco Clearwater, originally from Denver, Colorado. My academic background is in civil engineering, but my interests extend beyond the realm of engineering. I'm deeply intrigued by business management and its intricate dynamics. My journey is a fusion of analytical thinking and strategic vision, as I aim to bridge the gap between engineering expertise and effective business leadership. - Denver, Colorado\",\n",
       "  \"Marta Lopez - I'm Marta Diaz, currently pursuing a cybersecurity program at Harvard University. My academic journey is fueled by a fascination with the cutting-edge technologies that shape our digital world. With a focus on cybersecurity, I'm passionate about securing the future of technology and ensuring its resilience in the face of emerging threats. My dedication to next-gen tech and cybersecurity is the driving force behind my academic pursuits. - Dulles, VA\"],\n",
       " [\"Mark Vargas - I'm Mark, a mechanical engineer with 5 years of experience in the manufacturing industry. I'm proud to have graduated from the University of Alabama, where I honed my engineering skills. My expertise lies in optimizing manufacturing processes and ensuring efficiency in production. - Linthicum, MD\",\n",
       "  \"Juniper Berry - I'm Juniper Berry, an entry-level mechanical engineer hailing from West Virginia. My passion lies in space systems, and I'm eager to embark on a career dedicated to exploring the cosmos. With a strong educational background and a deep fascination for all things related to space, I'm determined to contribute to the exciting field of aerospace engineering and push the boundaries of human exploration. - Space Park, CA\",\n",
       "  \"Francisco Clearwater - I'm Francisco Clearwater, originally from Denver, Colorado. My academic background is in civil engineering, but my interests extend beyond the realm of engineering. I'm deeply intrigued by business management and its intricate dynamics. My journey is a fusion of analytical thinking and strategic vision, as I aim to bridge the gap between engineering expertise and effective business leadership. - Denver, Colorado\",\n",
       "  \"Marta Lopez - I'm Marta Diaz, currently pursuing a cybersecurity program at Harvard University. My academic journey is fueled by a fascination with the cutting-edge technologies that shape our digital world. With a focus on cybersecurity, I'm passionate about securing the future of technology and ensuring its resilience in the face of emerging threats. My dedication to next-gen tech and cybersecurity is the driving force behind my academic pursuits. - Dulles, VA\"],\n",
       " [\"Joe Pulisic - I'm Joe, a business manager with a passion for cost reduction strategies. I hold an MBA from Harvard University, where I gained a solid foundation in business management. My primary focus is on finding innovative ways to reduce costs and improve efficiency within organizations. Outside of the business world, I'm an avid rock climber, always seeking new challenges on the mountainside. - Space Park, CA\",\n",
       "  \"Juniper Berry - I'm Juniper Berry, an entry-level mechanical engineer hailing from West Virginia. My passion lies in space systems, and I'm eager to embark on a career dedicated to exploring the cosmos. With a strong educational background and a deep fascination for all things related to space, I'm determined to contribute to the exciting field of aerospace engineering and push the boundaries of human exploration. - Space Park, CA\",\n",
       "  \"Francisco Clearwater - I'm Francisco Clearwater, originally from Denver, Colorado. My academic background is in civil engineering, but my interests extend beyond the realm of engineering. I'm deeply intrigued by business management and its intricate dynamics. My journey is a fusion of analytical thinking and strategic vision, as I aim to bridge the gap between engineering expertise and effective business leadership. - Denver, Colorado\",\n",
       "  \"Marta Lopez - I'm Marta Diaz, currently pursuing a cybersecurity program at Harvard University. My academic journey is fueled by a fascination with the cutting-edge technologies that shape our digital world. With a focus on cybersecurity, I'm passionate about securing the future of technology and ensuring its resilience in the face of emerging threats. My dedication to next-gen tech and cybersecurity is the driving force behind my academic pursuits. - Dulles, VA\"],\n",
       " [\"Raga Martinez - I'm Raga, a chemical engineer based in Virginia. Alongside my three feline companions, I'm dedicated to my work in propulsion systems. I pursued my education at the University of Texas in Austin, where I gained the knowledge and skills that now drive my career in engineering. In my free time, you can find me enjoying the company of my cats and exploring the beauty of Virginia. - Dulles, VA\",\n",
       "  \"Juniper Berry - I'm Juniper Berry, an entry-level mechanical engineer hailing from West Virginia. My passion lies in space systems, and I'm eager to embark on a career dedicated to exploring the cosmos. With a strong educational background and a deep fascination for all things related to space, I'm determined to contribute to the exciting field of aerospace engineering and push the boundaries of human exploration. - Space Park, CA\",\n",
       "  \"Francisco Clearwater - I'm Francisco Clearwater, originally from Denver, Colorado. My academic background is in civil engineering, but my interests extend beyond the realm of engineering. I'm deeply intrigued by business management and its intricate dynamics. My journey is a fusion of analytical thinking and strategic vision, as I aim to bridge the gap between engineering expertise and effective business leadership. - Denver, Colorado\",\n",
       "  \"Marta Lopez - I'm Marta Diaz, currently pursuing a cybersecurity program at Harvard University. My academic journey is fueled by a fascination with the cutting-edge technologies that shape our digital world. With a focus on cybersecurity, I'm passionate about securing the future of technology and ensuring its resilience in the face of emerging threats. My dedication to next-gen tech and cybersecurity is the driving force behind my academic pursuits. - Dulles, VA\"],\n",
       " [\"Martin Junior Lopez - I'm Martin, a structural engineer specializing in next-generation space systems. I'm a proud alum of the University of Maryland, where I laid the foundation for my engineering journey. Beyond my professional work, I'm passionate about mentoring and guiding the next generation of professionals in the field. My goal is to inspire and nurture the talents that will shape the future of structural engineering and space exploration. - San Diego, CA\",\n",
       "  \"Juniper Berry - I'm Juniper Berry, an entry-level mechanical engineer hailing from West Virginia. My passion lies in space systems, and I'm eager to embark on a career dedicated to exploring the cosmos. With a strong educational background and a deep fascination for all things related to space, I'm determined to contribute to the exciting field of aerospace engineering and push the boundaries of human exploration. - Space Park, CA\",\n",
       "  \"Francisco Clearwater - I'm Francisco Clearwater, originally from Denver, Colorado. My academic background is in civil engineering, but my interests extend beyond the realm of engineering. I'm deeply intrigued by business management and its intricate dynamics. My journey is a fusion of analytical thinking and strategic vision, as I aim to bridge the gap between engineering expertise and effective business leadership. - Denver, Colorado\",\n",
       "  \"Marta Lopez - I'm Marta Diaz, currently pursuing a cybersecurity program at Harvard University. My academic journey is fueled by a fascination with the cutting-edge technologies that shape our digital world. With a focus on cybersecurity, I'm passionate about securing the future of technology and ensuring its resilience in the face of emerging threats. My dedication to next-gen tech and cybersecurity is the driving force behind my academic pursuits. - Dulles, VA\"],\n",
       " [\"Nico Garcia - I'm Nico, a dedicated software engineer with a sharp focus on cybersecurity. My expertise in safeguarding digital landscapes is grounded in my passion for protecting data and systems from potential threats. While my educational background may not be as flashy as some, my practical experience has shaped me into a cybersecurity enthusiast. I'm committed to keeping digital spaces secure and resilient against emerging challenges in our ever-evolving technological landscape. - Dulles, VA\",\n",
       "  \"Juniper Berry - I'm Juniper Berry, an entry-level mechanical engineer hailing from West Virginia. My passion lies in space systems, and I'm eager to embark on a career dedicated to exploring the cosmos. With a strong educational background and a deep fascination for all things related to space, I'm determined to contribute to the exciting field of aerospace engineering and push the boundaries of human exploration. - Space Park, CA\",\n",
       "  \"Francisco Clearwater - I'm Francisco Clearwater, originally from Denver, Colorado. My academic background is in civil engineering, but my interests extend beyond the realm of engineering. I'm deeply intrigued by business management and its intricate dynamics. My journey is a fusion of analytical thinking and strategic vision, as I aim to bridge the gap between engineering expertise and effective business leadership. - Denver, Colorado\",\n",
       "  \"Marta Lopez - I'm Marta Diaz, currently pursuing a cybersecurity program at Harvard University. My academic journey is fueled by a fascination with the cutting-edge technologies that shape our digital world. With a focus on cybersecurity, I'm passionate about securing the future of technology and ensuring its resilience in the face of emerging threats. My dedication to next-gen tech and cybersecurity is the driving force behind my academic pursuits. - Dulles, VA\"],\n",
       " [\"Bobby II Miller - I'm Bobby, a forward-thinking Director of Engineering with a strong emphasis on emerging technologies and artificial intelligence (AI). My journey started with a PhD from West Virginia University, and since then, I've been dedicated to pushing the boundaries of technological innovation. My passion lies in harnessing the power of AI and cutting-edge tech to drive progress and create innovative solutions. As a leader in my field, I'm committed to shaping the future of engineering through these exciting advancements. - Linthicum, MD\",\n",
       "  \"Juniper Berry - I'm Juniper Berry, an entry-level mechanical engineer hailing from West Virginia. My passion lies in space systems, and I'm eager to embark on a career dedicated to exploring the cosmos. With a strong educational background and a deep fascination for all things related to space, I'm determined to contribute to the exciting field of aerospace engineering and push the boundaries of human exploration. - Space Park, CA\",\n",
       "  \"Francisco Clearwater - I'm Francisco Clearwater, originally from Denver, Colorado. My academic background is in civil engineering, but my interests extend beyond the realm of engineering. I'm deeply intrigued by business management and its intricate dynamics. My journey is a fusion of analytical thinking and strategic vision, as I aim to bridge the gap between engineering expertise and effective business leadership. - Denver, Colorado\",\n",
       "  \"Marta Lopez - I'm Marta Diaz, currently pursuing a cybersecurity program at Harvard University. My academic journey is fueled by a fascination with the cutting-edge technologies that shape our digital world. With a focus on cybersecurity, I'm passionate about securing the future of technology and ensuring its resilience in the face of emerging threats. My dedication to next-gen tech and cybersecurity is the driving force behind my academic pursuits. - Dulles, VA\"],\n",
       " [\"Sam Mullen - I'm Sam, a Manager at Level 3, bringing a wealth of expertise to the table. I hold a valuable business degree from Colorado University, which has equipped me with the knowledge and skills to excel in my role. With a keen eye for strategy and leadership, I'm dedicated to achieving organizational goals and fostering growth. My experience and commitment to success make me a valuable asset to my team and company. - San Diego, CA\",\n",
       "  \"Juniper Berry - I'm Juniper Berry, an entry-level mechanical engineer hailing from West Virginia. My passion lies in space systems, and I'm eager to embark on a career dedicated to exploring the cosmos. With a strong educational background and a deep fascination for all things related to space, I'm determined to contribute to the exciting field of aerospace engineering and push the boundaries of human exploration. - Space Park, CA\",\n",
       "  \"Francisco Clearwater - I'm Francisco Clearwater, originally from Denver, Colorado. My academic background is in civil engineering, but my interests extend beyond the realm of engineering. I'm deeply intrigued by business management and its intricate dynamics. My journey is a fusion of analytical thinking and strategic vision, as I aim to bridge the gap between engineering expertise and effective business leadership. - Denver, Colorado\",\n",
       "  \"Marta Lopez - I'm Marta Diaz, currently pursuing a cybersecurity program at Harvard University. My academic journey is fueled by a fascination with the cutting-edge technologies that shape our digital world. With a focus on cybersecurity, I'm passionate about securing the future of technology and ensuring its resilience in the face of emerging threats. My dedication to next-gen tech and cybersecurity is the driving force behind my academic pursuits. - Dulles, VA\"],\n",
       " [\"Kai Havertz - I'm Kai Havertz, a professional football player known for my skills on the field. Throughout my career, I've had the privilege of playing for top clubs and representing my national team. I'm dedicated to honing my abilities and contributing to the world of football. Excited about what the future holds, I'm committed to making a significant impact in the sport. - London, England\",\n",
       "  \"Juniper Berry - I'm Juniper Berry, an entry-level mechanical engineer hailing from West Virginia. My passion lies in space systems, and I'm eager to embark on a career dedicated to exploring the cosmos. With a strong educational background and a deep fascination for all things related to space, I'm determined to contribute to the exciting field of aerospace engineering and push the boundaries of human exploration. - Space Park, CA\",\n",
       "  \"Francisco Clearwater - I'm Francisco Clearwater, originally from Denver, Colorado. My academic background is in civil engineering, but my interests extend beyond the realm of engineering. I'm deeply intrigued by business management and its intricate dynamics. My journey is a fusion of analytical thinking and strategic vision, as I aim to bridge the gap between engineering expertise and effective business leadership. - Denver, Colorado\",\n",
       "  \"Marta Lopez - I'm Marta Diaz, currently pursuing a cybersecurity program at Harvard University. My academic journey is fueled by a fascination with the cutting-edge technologies that shape our digital world. With a focus on cybersecurity, I'm passionate about securing the future of technology and ensuring its resilience in the face of emerging threats. My dedication to next-gen tech and cybersecurity is the driving force behind my academic pursuits. - Dulles, VA\"]]"
      ]
     },
     "execution_count": 10,
     "metadata": {},
     "output_type": "execute_result"
    }
   ],
   "source": [
    "data"
   ]
  },
  {
   "cell_type": "code",
   "execution_count": 7,
   "metadata": {},
   "outputs": [],
   "source": [
    "# sort dict in descending order\n",
    "my_dict = {\"0\":0.5764942169189453, \"1\":0.6109113693237305, \"2\":0.5745114684104919}\n"
   ]
  },
  {
   "cell_type": "code",
   "execution_count": 8,
   "metadata": {},
   "outputs": [
    {
     "name": "stdout",
     "output_type": "stream",
     "text": [
      "{'1': 0.6109113693237305, '0': 0.5764942169189453, '2': 0.5745114684104919}\n"
     ]
    }
   ],
   "source": [
    "# Sorting the dictionary by values in descending order\n",
    "sorted_dict = dict(sorted(my_dict.items(), key=lambda item: item[1], reverse=True))\n",
    "print(sorted_dict)"
   ]
  },
  {
   "cell_type": "code",
   "execution_count": null,
   "metadata": {},
   "outputs": [],
   "source": []
  }
 ],
 "metadata": {
  "kernelspec": {
   "display_name": "env",
   "language": "python",
   "name": "python3"
  },
  "language_info": {
   "codemirror_mode": {
    "name": "ipython",
    "version": 3
   },
   "file_extension": ".py",
   "mimetype": "text/x-python",
   "name": "python",
   "nbconvert_exporter": "python",
   "pygments_lexer": "ipython3",
   "version": "3.11.3"
  }
 },
 "nbformat": 4,
 "nbformat_minor": 2
}
